{
  "nbformat": 4,
  "nbformat_minor": 0,
  "metadata": {
    "colab": {
      "provenance": [],
      "authorship_tag": "ABX9TyMZrqF/0/4fxBS83ZgDBORy",
      "include_colab_link": true
    },
    "kernelspec": {
      "name": "python3",
      "display_name": "Python 3"
    },
    "language_info": {
      "name": "python"
    }
  },
  "cells": [
    {
      "cell_type": "markdown",
      "metadata": {
        "id": "view-in-github",
        "colab_type": "text"
      },
      "source": [
        "<a href=\"https://colab.research.google.com/github/FelipeOcampo03/FeaturesImportanceInasist/blob/main/Features_Importance.ipynb\" target=\"_parent\"><img src=\"https://colab.research.google.com/assets/colab-badge.svg\" alt=\"Open In Colab\"/></a>"
      ]
    },
    {
      "cell_type": "code",
      "execution_count": null,
      "metadata": {
        "id": "apwn0uNdaHWM"
      },
      "outputs": [],
      "source": [
        "import pandas as pd\n",
        "import numpy as np\n",
        "import matplotlib.pyplot as plt\n",
        "from sklearn.model_selection import train_test_split\n",
        "from sklearn.neighbors import KNeighborsClassifier\n",
        "from sklearn.metrics import accuracy_score\n",
        "from sklearn.model_selection import cross_val_score\n",
        "from sklearn.metrics import f1_score, precision_score\n",
        "from sklearn.tree import DecisionTreeClassifier\n",
        "from sklearn.metrics import roc_curve, auc\n",
        "from sklearn.metrics import confusion_matrix\n",
        "from sklearn.metrics import classification_report\n",
        "from sklearn.ensemble import RandomForestClassifier\n",
        "from sklearn.metrics import roc_auc_score\n",
        "import seaborn as sns\n",
        "from imblearn.over_sampling import SMOTE\n",
        "from sklearn.model_selection import train_test_split"
      ]
    },
    {
      "cell_type": "code",
      "source": [
        "from google.colab import drive\n",
        "drive.mount('/content/drive')"
      ],
      "metadata": {
        "colab": {
          "base_uri": "https://localhost:8080/"
        },
        "id": "Y7OCUoN9aTcm",
        "outputId": "89e72784-90fe-4171-d9c8-fe23f2f7fa17"
      },
      "execution_count": null,
      "outputs": [
        {
          "output_type": "stream",
          "name": "stdout",
          "text": [
            "Mounted at /content/drive\n"
          ]
        }
      ]
    },
    {
      "cell_type": "code",
      "source": [
        "data = pd.read_excel('/content/drive/MyDrive/Inasistencia/BDG_0.xlsx')\n",
        "data"
      ],
      "metadata": {
        "colab": {
          "base_uri": "https://localhost:8080/",
          "height": 441
        },
        "id": "vfarrT24aY8I",
        "outputId": "d591cec9-3a60-4cda-dc5e-68170b87dbb8"
      },
      "execution_count": null,
      "outputs": [
        {
          "output_type": "execute_result",
          "data": {
            "text/plain": [
              "       Tipo de cita  edad  sexo  tiempo (m)  distancia (km)  aseguradora tipo  \\\n",
              "0                 0    90     1        19.0             7.0                 3   \n",
              "1                 0    92     1        11.0             4.0                 4   \n",
              "2                 0    92     1        36.0            17.0                 4   \n",
              "3                 0    81     0        36.0            13.0                 3   \n",
              "4                 0    84     1         9.0             3.0                 3   \n",
              "...             ...   ...   ...         ...             ...               ...   \n",
              "13889             0    17     0        28.0             9.0                 5   \n",
              "13890             0    81     1        31.0            10.0                 5   \n",
              "13891             0    57     0        31.0            10.0                 5   \n",
              "13892             0    30     0        10.0             2.0                 7   \n",
              "13893             0    38     1         9.0             4.0                 4   \n",
              "\n",
              "       Numero DX  Hosp. Reciente  Numero de MX  hora  día cita  mes cita  \\\n",
              "0              4               0             6     9         1         8   \n",
              "1              1               0             0    13         2         5   \n",
              "2              2               0             0    13         4         7   \n",
              "3              4               0             0    16         0         6   \n",
              "4              1               0             0    10         3         1   \n",
              "...          ...             ...           ...   ...       ...       ...   \n",
              "13889          1               0             0    16         1         3   \n",
              "13890          1               0             0    16         3         4   \n",
              "13891          4               0             0    17         3         4   \n",
              "13892          5               1             0    14         1         2   \n",
              "13893          2               0             1    13         5         4   \n",
              "\n",
              "       intervalo creación - asignación  Asistencias previas  \\\n",
              "0                                   58                    7   \n",
              "1                                   61                    3   \n",
              "2                                   33                    2   \n",
              "3                                    1                    4   \n",
              "4                                   19                    2   \n",
              "...                                ...                  ...   \n",
              "13889                                1                    3   \n",
              "13890                                4                    1   \n",
              "13891                                4                    1   \n",
              "13892                                1                    1   \n",
              "13893                               63                    1   \n",
              "\n",
              "       Inasistencias previas  Cali  \n",
              "0                          1     1  \n",
              "1                          0     1  \n",
              "2                          0     1  \n",
              "3                          1     1  \n",
              "4                          0     1  \n",
              "...                      ...   ...  \n",
              "13889                      0     1  \n",
              "13890                      0     1  \n",
              "13891                      0     1  \n",
              "13892                      2     1  \n",
              "13893                      0     1  \n",
              "\n",
              "[13894 rows x 16 columns]"
            ],
            "text/html": [
              "\n",
              "  <div id=\"df-68bb42c8-65b7-45bd-8df6-6b45c6de0619\" class=\"colab-df-container\">\n",
              "    <div>\n",
              "<style scoped>\n",
              "    .dataframe tbody tr th:only-of-type {\n",
              "        vertical-align: middle;\n",
              "    }\n",
              "\n",
              "    .dataframe tbody tr th {\n",
              "        vertical-align: top;\n",
              "    }\n",
              "\n",
              "    .dataframe thead th {\n",
              "        text-align: right;\n",
              "    }\n",
              "</style>\n",
              "<table border=\"1\" class=\"dataframe\">\n",
              "  <thead>\n",
              "    <tr style=\"text-align: right;\">\n",
              "      <th></th>\n",
              "      <th>Tipo de cita</th>\n",
              "      <th>edad</th>\n",
              "      <th>sexo</th>\n",
              "      <th>tiempo (m)</th>\n",
              "      <th>distancia (km)</th>\n",
              "      <th>aseguradora tipo</th>\n",
              "      <th>Numero DX</th>\n",
              "      <th>Hosp. Reciente</th>\n",
              "      <th>Numero de MX</th>\n",
              "      <th>hora</th>\n",
              "      <th>día cita</th>\n",
              "      <th>mes cita</th>\n",
              "      <th>intervalo creación - asignación</th>\n",
              "      <th>Asistencias previas</th>\n",
              "      <th>Inasistencias previas</th>\n",
              "      <th>Cali</th>\n",
              "    </tr>\n",
              "  </thead>\n",
              "  <tbody>\n",
              "    <tr>\n",
              "      <th>0</th>\n",
              "      <td>0</td>\n",
              "      <td>90</td>\n",
              "      <td>1</td>\n",
              "      <td>19.0</td>\n",
              "      <td>7.0</td>\n",
              "      <td>3</td>\n",
              "      <td>4</td>\n",
              "      <td>0</td>\n",
              "      <td>6</td>\n",
              "      <td>9</td>\n",
              "      <td>1</td>\n",
              "      <td>8</td>\n",
              "      <td>58</td>\n",
              "      <td>7</td>\n",
              "      <td>1</td>\n",
              "      <td>1</td>\n",
              "    </tr>\n",
              "    <tr>\n",
              "      <th>1</th>\n",
              "      <td>0</td>\n",
              "      <td>92</td>\n",
              "      <td>1</td>\n",
              "      <td>11.0</td>\n",
              "      <td>4.0</td>\n",
              "      <td>4</td>\n",
              "      <td>1</td>\n",
              "      <td>0</td>\n",
              "      <td>0</td>\n",
              "      <td>13</td>\n",
              "      <td>2</td>\n",
              "      <td>5</td>\n",
              "      <td>61</td>\n",
              "      <td>3</td>\n",
              "      <td>0</td>\n",
              "      <td>1</td>\n",
              "    </tr>\n",
              "    <tr>\n",
              "      <th>2</th>\n",
              "      <td>0</td>\n",
              "      <td>92</td>\n",
              "      <td>1</td>\n",
              "      <td>36.0</td>\n",
              "      <td>17.0</td>\n",
              "      <td>4</td>\n",
              "      <td>2</td>\n",
              "      <td>0</td>\n",
              "      <td>0</td>\n",
              "      <td>13</td>\n",
              "      <td>4</td>\n",
              "      <td>7</td>\n",
              "      <td>33</td>\n",
              "      <td>2</td>\n",
              "      <td>0</td>\n",
              "      <td>1</td>\n",
              "    </tr>\n",
              "    <tr>\n",
              "      <th>3</th>\n",
              "      <td>0</td>\n",
              "      <td>81</td>\n",
              "      <td>0</td>\n",
              "      <td>36.0</td>\n",
              "      <td>13.0</td>\n",
              "      <td>3</td>\n",
              "      <td>4</td>\n",
              "      <td>0</td>\n",
              "      <td>0</td>\n",
              "      <td>16</td>\n",
              "      <td>0</td>\n",
              "      <td>6</td>\n",
              "      <td>1</td>\n",
              "      <td>4</td>\n",
              "      <td>1</td>\n",
              "      <td>1</td>\n",
              "    </tr>\n",
              "    <tr>\n",
              "      <th>4</th>\n",
              "      <td>0</td>\n",
              "      <td>84</td>\n",
              "      <td>1</td>\n",
              "      <td>9.0</td>\n",
              "      <td>3.0</td>\n",
              "      <td>3</td>\n",
              "      <td>1</td>\n",
              "      <td>0</td>\n",
              "      <td>0</td>\n",
              "      <td>10</td>\n",
              "      <td>3</td>\n",
              "      <td>1</td>\n",
              "      <td>19</td>\n",
              "      <td>2</td>\n",
              "      <td>0</td>\n",
              "      <td>1</td>\n",
              "    </tr>\n",
              "    <tr>\n",
              "      <th>...</th>\n",
              "      <td>...</td>\n",
              "      <td>...</td>\n",
              "      <td>...</td>\n",
              "      <td>...</td>\n",
              "      <td>...</td>\n",
              "      <td>...</td>\n",
              "      <td>...</td>\n",
              "      <td>...</td>\n",
              "      <td>...</td>\n",
              "      <td>...</td>\n",
              "      <td>...</td>\n",
              "      <td>...</td>\n",
              "      <td>...</td>\n",
              "      <td>...</td>\n",
              "      <td>...</td>\n",
              "      <td>...</td>\n",
              "    </tr>\n",
              "    <tr>\n",
              "      <th>13889</th>\n",
              "      <td>0</td>\n",
              "      <td>17</td>\n",
              "      <td>0</td>\n",
              "      <td>28.0</td>\n",
              "      <td>9.0</td>\n",
              "      <td>5</td>\n",
              "      <td>1</td>\n",
              "      <td>0</td>\n",
              "      <td>0</td>\n",
              "      <td>16</td>\n",
              "      <td>1</td>\n",
              "      <td>3</td>\n",
              "      <td>1</td>\n",
              "      <td>3</td>\n",
              "      <td>0</td>\n",
              "      <td>1</td>\n",
              "    </tr>\n",
              "    <tr>\n",
              "      <th>13890</th>\n",
              "      <td>0</td>\n",
              "      <td>81</td>\n",
              "      <td>1</td>\n",
              "      <td>31.0</td>\n",
              "      <td>10.0</td>\n",
              "      <td>5</td>\n",
              "      <td>1</td>\n",
              "      <td>0</td>\n",
              "      <td>0</td>\n",
              "      <td>16</td>\n",
              "      <td>3</td>\n",
              "      <td>4</td>\n",
              "      <td>4</td>\n",
              "      <td>1</td>\n",
              "      <td>0</td>\n",
              "      <td>1</td>\n",
              "    </tr>\n",
              "    <tr>\n",
              "      <th>13891</th>\n",
              "      <td>0</td>\n",
              "      <td>57</td>\n",
              "      <td>0</td>\n",
              "      <td>31.0</td>\n",
              "      <td>10.0</td>\n",
              "      <td>5</td>\n",
              "      <td>4</td>\n",
              "      <td>0</td>\n",
              "      <td>0</td>\n",
              "      <td>17</td>\n",
              "      <td>3</td>\n",
              "      <td>4</td>\n",
              "      <td>4</td>\n",
              "      <td>1</td>\n",
              "      <td>0</td>\n",
              "      <td>1</td>\n",
              "    </tr>\n",
              "    <tr>\n",
              "      <th>13892</th>\n",
              "      <td>0</td>\n",
              "      <td>30</td>\n",
              "      <td>0</td>\n",
              "      <td>10.0</td>\n",
              "      <td>2.0</td>\n",
              "      <td>7</td>\n",
              "      <td>5</td>\n",
              "      <td>1</td>\n",
              "      <td>0</td>\n",
              "      <td>14</td>\n",
              "      <td>1</td>\n",
              "      <td>2</td>\n",
              "      <td>1</td>\n",
              "      <td>1</td>\n",
              "      <td>2</td>\n",
              "      <td>1</td>\n",
              "    </tr>\n",
              "    <tr>\n",
              "      <th>13893</th>\n",
              "      <td>0</td>\n",
              "      <td>38</td>\n",
              "      <td>1</td>\n",
              "      <td>9.0</td>\n",
              "      <td>4.0</td>\n",
              "      <td>4</td>\n",
              "      <td>2</td>\n",
              "      <td>0</td>\n",
              "      <td>1</td>\n",
              "      <td>13</td>\n",
              "      <td>5</td>\n",
              "      <td>4</td>\n",
              "      <td>63</td>\n",
              "      <td>1</td>\n",
              "      <td>0</td>\n",
              "      <td>1</td>\n",
              "    </tr>\n",
              "  </tbody>\n",
              "</table>\n",
              "<p>13894 rows × 16 columns</p>\n",
              "</div>\n",
              "    <div class=\"colab-df-buttons\">\n",
              "\n",
              "  <div class=\"colab-df-container\">\n",
              "    <button class=\"colab-df-convert\" onclick=\"convertToInteractive('df-68bb42c8-65b7-45bd-8df6-6b45c6de0619')\"\n",
              "            title=\"Convert this dataframe to an interactive table.\"\n",
              "            style=\"display:none;\">\n",
              "\n",
              "  <svg xmlns=\"http://www.w3.org/2000/svg\" height=\"24px\" viewBox=\"0 -960 960 960\">\n",
              "    <path d=\"M120-120v-720h720v720H120Zm60-500h600v-160H180v160Zm220 220h160v-160H400v160Zm0 220h160v-160H400v160ZM180-400h160v-160H180v160Zm440 0h160v-160H620v160ZM180-180h160v-160H180v160Zm440 0h160v-160H620v160Z\"/>\n",
              "  </svg>\n",
              "    </button>\n",
              "\n",
              "  <style>\n",
              "    .colab-df-container {\n",
              "      display:flex;\n",
              "      gap: 12px;\n",
              "    }\n",
              "\n",
              "    .colab-df-convert {\n",
              "      background-color: #E8F0FE;\n",
              "      border: none;\n",
              "      border-radius: 50%;\n",
              "      cursor: pointer;\n",
              "      display: none;\n",
              "      fill: #1967D2;\n",
              "      height: 32px;\n",
              "      padding: 0 0 0 0;\n",
              "      width: 32px;\n",
              "    }\n",
              "\n",
              "    .colab-df-convert:hover {\n",
              "      background-color: #E2EBFA;\n",
              "      box-shadow: 0px 1px 2px rgba(60, 64, 67, 0.3), 0px 1px 3px 1px rgba(60, 64, 67, 0.15);\n",
              "      fill: #174EA6;\n",
              "    }\n",
              "\n",
              "    .colab-df-buttons div {\n",
              "      margin-bottom: 4px;\n",
              "    }\n",
              "\n",
              "    [theme=dark] .colab-df-convert {\n",
              "      background-color: #3B4455;\n",
              "      fill: #D2E3FC;\n",
              "    }\n",
              "\n",
              "    [theme=dark] .colab-df-convert:hover {\n",
              "      background-color: #434B5C;\n",
              "      box-shadow: 0px 1px 3px 1px rgba(0, 0, 0, 0.15);\n",
              "      filter: drop-shadow(0px 1px 2px rgba(0, 0, 0, 0.3));\n",
              "      fill: #FFFFFF;\n",
              "    }\n",
              "  </style>\n",
              "\n",
              "    <script>\n",
              "      const buttonEl =\n",
              "        document.querySelector('#df-68bb42c8-65b7-45bd-8df6-6b45c6de0619 button.colab-df-convert');\n",
              "      buttonEl.style.display =\n",
              "        google.colab.kernel.accessAllowed ? 'block' : 'none';\n",
              "\n",
              "      async function convertToInteractive(key) {\n",
              "        const element = document.querySelector('#df-68bb42c8-65b7-45bd-8df6-6b45c6de0619');\n",
              "        const dataTable =\n",
              "          await google.colab.kernel.invokeFunction('convertToInteractive',\n",
              "                                                    [key], {});\n",
              "        if (!dataTable) return;\n",
              "\n",
              "        const docLinkHtml = 'Like what you see? Visit the ' +\n",
              "          '<a target=\"_blank\" href=https://colab.research.google.com/notebooks/data_table.ipynb>data table notebook</a>'\n",
              "          + ' to learn more about interactive tables.';\n",
              "        element.innerHTML = '';\n",
              "        dataTable['output_type'] = 'display_data';\n",
              "        await google.colab.output.renderOutput(dataTable, element);\n",
              "        const docLink = document.createElement('div');\n",
              "        docLink.innerHTML = docLinkHtml;\n",
              "        element.appendChild(docLink);\n",
              "      }\n",
              "    </script>\n",
              "  </div>\n",
              "\n",
              "\n",
              "<div id=\"df-149b1cbb-3e16-4cbd-a166-f111dd92f95e\">\n",
              "  <button class=\"colab-df-quickchart\" onclick=\"quickchart('df-149b1cbb-3e16-4cbd-a166-f111dd92f95e')\"\n",
              "            title=\"Suggest charts.\"\n",
              "            style=\"display:none;\">\n",
              "\n",
              "<svg xmlns=\"http://www.w3.org/2000/svg\" height=\"24px\"viewBox=\"0 0 24 24\"\n",
              "     width=\"24px\">\n",
              "    <g>\n",
              "        <path d=\"M19 3H5c-1.1 0-2 .9-2 2v14c0 1.1.9 2 2 2h14c1.1 0 2-.9 2-2V5c0-1.1-.9-2-2-2zM9 17H7v-7h2v7zm4 0h-2V7h2v10zm4 0h-2v-4h2v4z\"/>\n",
              "    </g>\n",
              "</svg>\n",
              "  </button>\n",
              "\n",
              "<style>\n",
              "  .colab-df-quickchart {\n",
              "      --bg-color: #E8F0FE;\n",
              "      --fill-color: #1967D2;\n",
              "      --hover-bg-color: #E2EBFA;\n",
              "      --hover-fill-color: #174EA6;\n",
              "      --disabled-fill-color: #AAA;\n",
              "      --disabled-bg-color: #DDD;\n",
              "  }\n",
              "\n",
              "  [theme=dark] .colab-df-quickchart {\n",
              "      --bg-color: #3B4455;\n",
              "      --fill-color: #D2E3FC;\n",
              "      --hover-bg-color: #434B5C;\n",
              "      --hover-fill-color: #FFFFFF;\n",
              "      --disabled-bg-color: #3B4455;\n",
              "      --disabled-fill-color: #666;\n",
              "  }\n",
              "\n",
              "  .colab-df-quickchart {\n",
              "    background-color: var(--bg-color);\n",
              "    border: none;\n",
              "    border-radius: 50%;\n",
              "    cursor: pointer;\n",
              "    display: none;\n",
              "    fill: var(--fill-color);\n",
              "    height: 32px;\n",
              "    padding: 0;\n",
              "    width: 32px;\n",
              "  }\n",
              "\n",
              "  .colab-df-quickchart:hover {\n",
              "    background-color: var(--hover-bg-color);\n",
              "    box-shadow: 0 1px 2px rgba(60, 64, 67, 0.3), 0 1px 3px 1px rgba(60, 64, 67, 0.15);\n",
              "    fill: var(--button-hover-fill-color);\n",
              "  }\n",
              "\n",
              "  .colab-df-quickchart-complete:disabled,\n",
              "  .colab-df-quickchart-complete:disabled:hover {\n",
              "    background-color: var(--disabled-bg-color);\n",
              "    fill: var(--disabled-fill-color);\n",
              "    box-shadow: none;\n",
              "  }\n",
              "\n",
              "  .colab-df-spinner {\n",
              "    border: 2px solid var(--fill-color);\n",
              "    border-color: transparent;\n",
              "    border-bottom-color: var(--fill-color);\n",
              "    animation:\n",
              "      spin 1s steps(1) infinite;\n",
              "  }\n",
              "\n",
              "  @keyframes spin {\n",
              "    0% {\n",
              "      border-color: transparent;\n",
              "      border-bottom-color: var(--fill-color);\n",
              "      border-left-color: var(--fill-color);\n",
              "    }\n",
              "    20% {\n",
              "      border-color: transparent;\n",
              "      border-left-color: var(--fill-color);\n",
              "      border-top-color: var(--fill-color);\n",
              "    }\n",
              "    30% {\n",
              "      border-color: transparent;\n",
              "      border-left-color: var(--fill-color);\n",
              "      border-top-color: var(--fill-color);\n",
              "      border-right-color: var(--fill-color);\n",
              "    }\n",
              "    40% {\n",
              "      border-color: transparent;\n",
              "      border-right-color: var(--fill-color);\n",
              "      border-top-color: var(--fill-color);\n",
              "    }\n",
              "    60% {\n",
              "      border-color: transparent;\n",
              "      border-right-color: var(--fill-color);\n",
              "    }\n",
              "    80% {\n",
              "      border-color: transparent;\n",
              "      border-right-color: var(--fill-color);\n",
              "      border-bottom-color: var(--fill-color);\n",
              "    }\n",
              "    90% {\n",
              "      border-color: transparent;\n",
              "      border-bottom-color: var(--fill-color);\n",
              "    }\n",
              "  }\n",
              "</style>\n",
              "\n",
              "  <script>\n",
              "    async function quickchart(key) {\n",
              "      const quickchartButtonEl =\n",
              "        document.querySelector('#' + key + ' button');\n",
              "      quickchartButtonEl.disabled = true;  // To prevent multiple clicks.\n",
              "      quickchartButtonEl.classList.add('colab-df-spinner');\n",
              "      try {\n",
              "        const charts = await google.colab.kernel.invokeFunction(\n",
              "            'suggestCharts', [key], {});\n",
              "      } catch (error) {\n",
              "        console.error('Error during call to suggestCharts:', error);\n",
              "      }\n",
              "      quickchartButtonEl.classList.remove('colab-df-spinner');\n",
              "      quickchartButtonEl.classList.add('colab-df-quickchart-complete');\n",
              "    }\n",
              "    (() => {\n",
              "      let quickchartButtonEl =\n",
              "        document.querySelector('#df-149b1cbb-3e16-4cbd-a166-f111dd92f95e button');\n",
              "      quickchartButtonEl.style.display =\n",
              "        google.colab.kernel.accessAllowed ? 'block' : 'none';\n",
              "    })();\n",
              "  </script>\n",
              "</div>\n",
              "    </div>\n",
              "  </div>\n"
            ]
          },
          "metadata": {},
          "execution_count": 3
        }
      ]
    },
    {
      "cell_type": "code",
      "source": [
        "data['Tipo de cita'].value_counts()"
      ],
      "metadata": {
        "colab": {
          "base_uri": "https://localhost:8080/"
        },
        "id": "WI2ntAk9Q5mP",
        "outputId": "3f038fd4-8a6d-44e1-ff27-38cc39d73cba"
      },
      "execution_count": null,
      "outputs": [
        {
          "output_type": "execute_result",
          "data": {
            "text/plain": [
              "0    12153\n",
              "1     1741\n",
              "Name: Tipo de cita, dtype: int64"
            ]
          },
          "metadata": {},
          "execution_count": 4
        }
      ]
    },
    {
      "cell_type": "code",
      "source": [
        "data = data.dropna(axis=0) #Eliminar valores NaN"
      ],
      "metadata": {
        "id": "B5FeV6w1anj3"
      },
      "execution_count": null,
      "outputs": []
    },
    {
      "cell_type": "code",
      "source": [
        "from sklearn.preprocessing import StandardScaler\n",
        "x = data.drop('Tipo de cita', axis=1)  # Ajusta 'etiqueta' al nombre de la columna de etiquetas\n",
        "y = data['Tipo de cita']\n",
        "X_train_resampled, X_test, y_train_resampled, y_test = train_test_split(x, y, test_size=0.2, random_state=0)\n",
        "sc = StandardScaler()\n",
        "X_train_resampled= sc.fit_transform(X_train_resampled)\n",
        "X_test = sc.transform(X_test)"
      ],
      "metadata": {
        "id": "-ashU1oaasFX"
      },
      "execution_count": null,
      "outputs": []
    },
    {
      "cell_type": "markdown",
      "source": [
        "#Adaboost DecisionTree"
      ],
      "metadata": {
        "id": "e8RZUNmgSYqc"
      }
    },
    {
      "cell_type": "code",
      "source": [
        "from sklearn.ensemble import AdaBoostClassifier\n",
        "from sklearn.datasets import make_classification\n",
        "from sklearn.model_selection import train_test_split\n",
        "from sklearn.metrics import accuracy_score"
      ],
      "metadata": {
        "id": "iwioKb-Gat_3"
      },
      "execution_count": null,
      "outputs": []
    },
    {
      "cell_type": "code",
      "source": [
        "X, y = make_classification(n_samples=1000, n_features=20, random_state=42)"
      ],
      "metadata": {
        "id": "5PaFzvYqaxxK"
      },
      "execution_count": null,
      "outputs": []
    },
    {
      "cell_type": "code",
      "source": [
        "from sklearn.tree import DecisionTreeClassifier\n",
        "base_classifier = DecisionTreeClassifier(max_depth=1)"
      ],
      "metadata": {
        "id": "6PsLqCJPaz5z"
      },
      "execution_count": null,
      "outputs": []
    },
    {
      "cell_type": "code",
      "source": [
        "adaboost_classifier_dt = AdaBoostClassifier(base_classifier, n_estimators=50, random_state=42)\n",
        "adaboost_classifier_dt.fit(X_train_resampled, y_train_resampled)\n",
        "y_pred = adaboost_classifier_dt.predict(X_test)\n",
        "accuracy = accuracy_score(y_test, y_pred)\n",
        "print(\"Precisión del clasificador AdaBoost:\", accuracy)"
      ],
      "metadata": {
        "colab": {
          "base_uri": "https://localhost:8080/"
        },
        "id": "8jEd0teFa201",
        "outputId": "ef47b6d7-8a05-4134-cd11-abbc72832976"
      },
      "execution_count": null,
      "outputs": [
        {
          "output_type": "stream",
          "name": "stdout",
          "text": [
            "Precisión del clasificador AdaBoost: 0.9211379186172128\n"
          ]
        }
      ]
    },
    {
      "cell_type": "code",
      "source": [
        "rf_importances = adaboost_classifier_dt.feature_importances_"
      ],
      "metadata": {
        "id": "FK9SDn9Ka7js"
      },
      "execution_count": null,
      "outputs": []
    },
    {
      "cell_type": "code",
      "source": [
        "feature_names = x.columns"
      ],
      "metadata": {
        "id": "3UjSk6d9a-vZ"
      },
      "execution_count": null,
      "outputs": []
    },
    {
      "cell_type": "code",
      "source": [
        "feature_importance_df = pd.DataFrame({'Feature': feature_names, 'Importance': rf_importances})\n",
        "\n",
        "# Ordena el DataFrame por importancia en orden descendente\n",
        "feature_importance_df = feature_importance_df.sort_values(by='Importance', ascending=False)\n",
        "\n",
        "# Grafica las \"features importance\"\n",
        "plt.figure(figsize=(10, 6))\n",
        "plt.barh(feature_importance_df['Feature'][:9], feature_importance_df['Importance'][:9])\n",
        "plt.xlabel('Importancia')\n",
        "plt.title('Importancia de las Características en el Clasificador de Votos (Top 10)')\n",
        "plt.gca().invert_yaxis()  # Invierte el eje y para que las características más importantes estén arriba\n",
        "plt.show()"
      ],
      "metadata": {
        "id": "BGlkaqeFbAnB",
        "outputId": "9016151b-5ac5-4e12-f228-d8165d206b19",
        "colab": {
          "base_uri": "https://localhost:8080/",
          "height": 565
        }
      },
      "execution_count": null,
      "outputs": [
        {
          "output_type": "display_data",
          "data": {
            "text/plain": [
              "<Figure size 1000x600 with 1 Axes>"
            ],
            "image/png": "[encoded data removed]"
          },
          "metadata": {}
        }
      ]
    },
    {
      "cell_type": "code",
      "source": [
        "importance_df= pd.DataFrame({'Feature':feature_names, 'Importance':rf_importances})\n"
      ],
      "metadata": {
        "id": "5jQQWD6zPYKh"
      },
      "execution_count": null,
      "outputs": []
    },
    {
      "cell_type": "code",
      "source": [
        "print(importance_df)"
      ],
      "metadata": {
        "colab": {
          "base_uri": "https://localhost:8080/"
        },
        "id": "HxaHJ1VWQNw3",
        "outputId": "d6b09d09-7242-4e88-ed5c-139dc95321fa"
      },
      "execution_count": null,
      "outputs": [
        {
          "output_type": "stream",
          "name": "stdout",
          "text": [
            "                            Feature  Importance\n",
            "0                              edad        0.12\n",
            "1                              sexo        0.02\n",
            "2                        tiempo (m)        0.06\n",
            "3                    distancia (km)        0.04\n",
            "4                  aseguradora tipo        0.04\n",
            "5                         Numero DX        0.08\n",
            "6                    Hosp. Reciente        0.00\n",
            "7                      Numero de MX        0.06\n",
            "8                              hora        0.04\n",
            "9                          día cita        0.06\n",
            "10                         mes cita        0.06\n",
            "11  intervalo creación - asignación        0.24\n",
            "12              Asistencias previas        0.12\n",
            "13            Inasistencias previas        0.04\n",
            "14                             Cali        0.02\n"
          ]
        }
      ]
    },
    {
      "cell_type": "code",
      "source": [
        "print(importance_df)"
      ],
      "metadata": {
        "colab": {
          "base_uri": "https://localhost:8080/"
        },
        "id": "NHq9s-nGQii_",
        "outputId": "815fa8cd-26d9-40cd-a7b8-544d3cd3d71d"
      },
      "execution_count": null,
      "outputs": [
        {
          "output_type": "stream",
          "name": "stdout",
          "text": [
            "                            Feature  Importance\n",
            "0                              edad        0.12\n",
            "1                              sexo        0.02\n",
            "2                        tiempo (m)        0.06\n",
            "3                    distancia (km)        0.04\n",
            "4                  aseguradora tipo        0.04\n",
            "5                         Numero DX        0.08\n",
            "6                    Hosp. Reciente        0.00\n",
            "7                      Numero de MX        0.06\n",
            "8                              hora        0.04\n",
            "9                          día cita        0.06\n",
            "10                         mes cita        0.06\n",
            "11  intervalo creación - asignación        0.24\n",
            "12              Asistencias previas        0.12\n",
            "13            Inasistencias previas        0.04\n",
            "14                             Cali        0.02\n"
          ]
        }
      ]
    },
    {
      "cell_type": "markdown",
      "source": [
        "##ExtraTrees"
      ],
      "metadata": {
        "id": "dMdlNXhwSe4_"
      }
    },
    {
      "cell_type": "code",
      "source": [
        "import numpy as np\n",
        "from sklearn.datasets import load_iris\n",
        "from sklearn.model_selection import train_test_split\n",
        "from sklearn.ensemble import ExtraTreesClassifier\n",
        "from sklearn.metrics import accuracy_score\n",
        "\n",
        "# Crear un clasificador Extra Trees\n",
        "# n_estimators es el número de árboles en el ensamblaje\n",
        "# max_features es el número de características a considerar en cada división\n",
        "extra_trees = ExtraTreesClassifier(n_estimators=100, max_features=\"auto\", random_state=42)\n",
        "\n",
        "# Entrenar el clasificador en los datos de entrenamiento\n",
        "extra_trees.fit(X_train_resampled, y_train_resampled)\n",
        "\n",
        "# Realizar predicciones en los datos de prueba\n",
        "y_pred = extra_trees.predict(X_test)"
      ],
      "metadata": {
        "colab": {
          "base_uri": "https://localhost:8080/"
        },
        "id": "VZF_OqW0RmbO",
        "outputId": "d6b10b2c-0653-4a8b-e7be-f6dc33d2b976"
      },
      "execution_count": null,
      "outputs": [
        {
          "output_type": "stream",
          "name": "stderr",
          "text": [
            "/usr/local/lib/python3.10/dist-packages/sklearn/ensemble/_forest.py:424: FutureWarning: `max_features='auto'` has been deprecated in 1.1 and will be removed in 1.3. To keep the past behaviour, explicitly set `max_features='sqrt'` or remove this parameter as it is also the default value for RandomForestClassifiers and ExtraTreesClassifiers.\n",
            "  warn(\n"
          ]
        }
      ]
    },
    {
      "cell_type": "code",
      "source": [
        "rf_importances = extra_trees.feature_importances_"
      ],
      "metadata": {
        "id": "yHBrtyaBRoUd"
      },
      "execution_count": null,
      "outputs": []
    },
    {
      "cell_type": "code",
      "source": [
        "feature_importance_df = pd.DataFrame({'Feature': feature_names, 'Importance': rf_importances})\n",
        "\n",
        "# Ordena el DataFrame por importancia en orden descendente\n",
        "feature_importance_df = feature_importance_df.sort_values(by='Importance', ascending=False)\n",
        "\n",
        "# Grafica las \"features importance\"\n",
        "plt.figure(figsize=(10, 6))\n",
        "plt.barh(feature_importance_df['Feature'][:9], feature_importance_df['Importance'][:9])\n",
        "plt.xlabel('Importancia')\n",
        "plt.title('Importancia de las Características en el Clasificador de Votos (Top 10)')\n",
        "plt.gca().invert_yaxis()  # Invierte el eje y para que las características más importantes estén arriba\n",
        "plt.show()"
      ],
      "metadata": {
        "colab": {
          "base_uri": "https://localhost:8080/",
          "height": 565
        },
        "id": "CazNFE6VRuEM",
        "outputId": "37134102-35d4-46a1-bf5e-56371b86a9b4"
      },
      "execution_count": null,
      "outputs": [
        {
          "output_type": "display_data",
          "data": {
            "text/plain": [
              "<Figure size 1000x600 with 1 Axes>"
            ],
            "image/png": "[encoded data removed]"
          },
          "metadata": {}
        }
      ]
    },
    {
      "cell_type": "code",
      "source": [
        "importance_df= pd.DataFrame({'Feature':feature_names, 'Importance':rf_importances})"
      ],
      "metadata": {
        "id": "4ThZmLaZR7w2"
      },
      "execution_count": null,
      "outputs": []
    },
    {
      "cell_type": "code",
      "source": [
        "print(importance_df)"
      ],
      "metadata": {
        "colab": {
          "base_uri": "https://localhost:8080/"
        },
        "id": "0VAWlrZcR_c2",
        "outputId": "05c8c437-adf9-41c9-82b8-cb626fd95c6a"
      },
      "execution_count": null,
      "outputs": [
        {
          "output_type": "stream",
          "name": "stdout",
          "text": [
            "                            Feature  Importance\n",
            "0                              edad    0.079298\n",
            "1                              sexo    0.018530\n",
            "2                        tiempo (m)    0.057988\n",
            "3                    distancia (km)    0.055608\n",
            "4                  aseguradora tipo    0.023535\n",
            "5                         Numero DX    0.273012\n",
            "6                    Hosp. Reciente    0.005770\n",
            "7                      Numero de MX    0.025316\n",
            "8                              hora    0.057504\n",
            "9                          día cita    0.049641\n",
            "10                         mes cita    0.052872\n",
            "11  intervalo creación - asignación    0.075438\n",
            "12              Asistencias previas    0.117946\n",
            "13            Inasistencias previas    0.100534\n",
            "14                             Cali    0.007009\n"
          ]
        }
      ]
    },
    {
      "cell_type": "markdown",
      "source": [
        "##Baggin RF"
      ],
      "metadata": {
        "id": "I1C9kI-6ShCQ"
      }
    },
    {
      "cell_type": "code",
      "source": [
        "from sklearn.datasets import load_iris\n",
        "from sklearn.model_selection import train_test_split\n",
        "from sklearn.ensemble import BaggingClassifier, RandomForestClassifier\n",
        "from sklearn.metrics import accuracy_score\n",
        "\n",
        "# Crear un clasificador Random Forest como modelo base\n",
        "base_classifierRF = RandomForestClassifier(random_state=42)\n",
        "\n",
        "# Crear el clasificador Bagging con 10 estimadores y el modelo base Random Forest\n",
        "bagging_classifierRF = BaggingClassifier(base_classifierRF, n_estimators=10, random_state=42)\n",
        "\n",
        "# Entrenar el clasificador Bagging en los datos de entrenamiento\n",
        "bagging_classifierRF.fit(X_train_resampled, y_train_resampled)\n",
        "\n",
        "# Realizar predicciones en el conjunto de prueba\n",
        "predictions = bagging_classifierRF.predict(X_test)"
      ],
      "metadata": {
        "id": "avpf02VSSmvY"
      },
      "execution_count": null,
      "outputs": []
    },
    {
      "cell_type": "code",
      "source": [
        "feature_importance= np.mean([tree.feature_importances_ for tree in bagging_classifierRF.estimators_], axis=0)"
      ],
      "metadata": {
        "id": "I1z2CsoRSn3w"
      },
      "execution_count": null,
      "outputs": []
    },
    {
      "cell_type": "code",
      "source": [
        "features_names= x.columns"
      ],
      "metadata": {
        "id": "LAlGdKIlTfIK"
      },
      "execution_count": null,
      "outputs": []
    },
    {
      "cell_type": "code",
      "source": [
        "top_5_indices = np.argsort(feature_importance)[::-1][:5]\n",
        "\n",
        "top_5_features = [feature_names[i] for i in top_5_indices]\n",
        "\n",
        "top_5_importance = [feature_importance[i] for i in top_5_indices]\n",
        "\n",
        "\n",
        "\n",
        "# Visualizar las 5 características más importantes\n",
        "\n",
        "plt.figure(figsize=(8, 6))\n",
        "\n",
        "plt.barh(range(len(top_5_importance)), top_5_importance, align='center')\n",
        "\n",
        "plt.yticks(np.arange(len(top_5_features)), top_5_features)\n",
        "\n",
        "plt.xlabel('Importancia de las características')\n",
        "\n",
        "plt.title('Las 5 características más importantes en Bagging Random Forest')\n",
        "\n",
        "plt.gca().invert_yaxis()  # Invertir el eje y para que la característica más importante esté en la parte superior\n",
        "\n",
        "plt.show()"
      ],
      "metadata": {
        "colab": {
          "base_uri": "https://localhost:8080/",
          "height": 565
        },
        "id": "LlDfAoLtTo56",
        "outputId": "6df07397-3874-4672-a4e7-cfcac0b1d114"
      },
      "execution_count": null,
      "outputs": [
        {
          "output_type": "display_data",
          "data": {
            "text/plain": [
              "<Figure size 800x600 with 1 Axes>"
            ],
            "image/png": "[encoded data removed]"
          },
          "metadata": {}
        }
      ]
    },
    {
      "cell_type": "markdown",
      "source": [
        "##Adaboost RF"
      ],
      "metadata": {
        "id": "_28nl8KSUrEB"
      }
    },
    {
      "cell_type": "code",
      "source": [
        "from sklearn.ensemble import AdaBoostClassifier\n",
        "from sklearn.ensemble import RandomForestClassifier\n",
        "from sklearn.datasets import make_classification\n",
        "from sklearn.model_selection import train_test_split\n",
        "from sklearn.metrics import accuracy_score\n",
        "\n",
        "# Generar un conjunto de datos de ejemplo\n",
        "X, y = make_classification(n_samples=1000, n_features=20, random_state=42)\n",
        "\n",
        "# Crear un Random Forest como clasificador base\n",
        "base_classifier = RandomForestClassifier(  n_estimators=5,\n",
        "    max_depth=5,               # Ajusta la profundidad máxima\n",
        "    min_samples_split=5,       # Ajusta el número mínimo de muestras para dividir\n",
        "    min_samples_leaf=2,        # Ajusta el número mínimo de muestras en nodos hoja\n",
        "    random_state=42)\n",
        "\n",
        "# Crear el clasificador AdaBoost utilizando el Random Forest como clasificador base\n",
        "adaboost_classifierRF = AdaBoostClassifier(base_classifier, n_estimators=50, random_state=42)\n",
        "\n",
        "# Entrenar el clasificador AdaBoost\n",
        "adaboost_classifierRF.fit(X_train_resampled, y_train_resampled)\n",
        "\n",
        "# Realizar predicciones en el conjunto de prueba\n",
        "y_pred = adaboost_classifierRF.predict(X_test)"
      ],
      "metadata": {
        "id": "LOpUfGWjUshK"
      },
      "execution_count": null,
      "outputs": []
    },
    {
      "cell_type": "code",
      "source": [
        "rf_importances = adaboost_classifierRF.feature_importances_"
      ],
      "metadata": {
        "id": "aa1I8Ah2Uyvx"
      },
      "execution_count": null,
      "outputs": []
    },
    {
      "cell_type": "code",
      "source": [
        "feature_importance_df = pd.DataFrame({'Feature': feature_names, 'Importance': rf_importances})\n",
        "\n",
        "# Ordena el DataFrame por importancia en orden descendente\n",
        "feature_importance_df = feature_importance_df.sort_values(by='Importance', ascending=False)\n",
        "\n",
        "# Grafica las \"features importance\"\n",
        "plt.figure(figsize=(10, 6))\n",
        "plt.barh(feature_importance_df['Feature'][:9], feature_importance_df['Importance'][:9])\n",
        "plt.xlabel('Importancia')\n",
        "plt.title('IMPORTANCIA DE LAS VARIABLES PARA INASISTENCIA')\n",
        "plt.gca().invert_yaxis()  # Invierte el eje y para que las características más importantes estén arriba\n",
        "plt.show()"
      ],
      "metadata": {
        "colab": {
          "base_uri": "https://localhost:8080/",
          "height": 564
        },
        "id": "JcNuDqTVU37J",
        "outputId": "eddcc940-6d99-4cc5-8767-e8b1af5c1fa5"
      },
      "execution_count": null,
      "outputs": [
        {
          "output_type": "display_data",
          "data": {
            "text/plain": [
              "<Figure size 1000x600 with 1 Axes>"
            ],
            "image/png": "[encoded data removed]"
          },
          "metadata": {}
        }
      ]
    },
    {
      "cell_type": "code",
      "source": [
        "importance_df= pd.DataFrame({'Feature':feature_names, 'Importance':rf_importances})"
      ],
      "metadata": {
        "id": "eXmFWRy8VAYR"
      },
      "execution_count": null,
      "outputs": []
    },
    {
      "cell_type": "code",
      "source": [
        "print(importance_df)"
      ],
      "metadata": {
        "id": "GwR8eCmWVDVB",
        "outputId": "81e191a3-d842-453d-dbf0-3262776ec527",
        "colab": {
          "base_uri": "https://localhost:8080/"
        }
      },
      "execution_count": null,
      "outputs": [
        {
          "output_type": "stream",
          "name": "stdout",
          "text": [
            "                            Feature  Importance\n",
            "0                              edad    0.141839\n",
            "1                              sexo    0.018620\n",
            "2                        tiempo (m)    0.098945\n",
            "3                    distancia (km)    0.083333\n",
            "4                  aseguradora tipo    0.031854\n",
            "5                         Numero DX    0.070940\n",
            "6                    Hosp. Reciente    0.007769\n",
            "7                      Numero de MX    0.038232\n",
            "8                              hora    0.073632\n",
            "9                          día cita    0.063923\n",
            "10                         mes cita    0.067051\n",
            "11  intervalo creación - asignación    0.132798\n",
            "12              Asistencias previas    0.067876\n",
            "13            Inasistencias previas    0.090225\n",
            "14                             Cali    0.012963\n"
          ]
        }
      ]
    },
    {
      "cell_type": "code",
      "source": [
        "feature_importance_df.to_excel('caracteristicas_importancia.xlsx', index=False)"
      ],
      "metadata": {
        "id": "hMyGHuJ0LLr3"
      },
      "execution_count": null,
      "outputs": []
    }
  ]
}